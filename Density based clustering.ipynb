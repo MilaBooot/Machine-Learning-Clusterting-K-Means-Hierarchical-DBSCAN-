{
  "nbformat": 4,
  "nbformat_minor": 0,
  "metadata": {
    "kernelspec": {
      "display_name": "Python 3",
      "language": "python",
      "name": "python3"
    },
    "language_info": {
      "codemirror_mode": {
        "name": "ipython",
        "version": 3
      },
      "file_extension": ".py",
      "mimetype": "text/x-python",
      "name": "python",
      "nbconvert_exporter": "python",
      "pygments_lexer": "ipython3",
      "version": "3.7.3"
    },
    "colab": {
      "name": "ML0101EN-Clus-DBSCN-weather.ipynb",
      "provenance": [],
      "collapsed_sections": []
    }
  },
  "cells": [
    {
      "cell_type": "markdown",
      "metadata": {
        "id": "_jPwltSP19UA"
      },
      "source": [
        "\n",
        "\n",
        "# Density-Based Clustering\n",
        "\n",
        "\n",
        "## Objectives\n",
        "\n",
        "After completing this lab you will be able to:\n",
        "\n",
        "*   Use DBSCAN to do Density based clustering\n",
        "*   Use Matplotlib to plot clusters\n"
      ]
    },
    {
      "cell_type": "markdown",
      "metadata": {
        "id": "HVGy4kon19UD"
      },
      "source": [
        "Most of the traditional clustering techniques, such as k-means, hierarchical and fuzzy clustering, can be used to group data without supervision.\n",
        "\n",
        "However, when applied to tasks with arbitrary shape clusters, or clusters within cluster, the traditional techniques might be unable to achieve good results. That is, elements in the same cluster might not share enough similarity or the performance may be poor.\n",
        "Additionally, Density-based clustering locates regions of high density that are separated from one another by regions of low density. Density, in this context, is defined as the number of points within a specified radius.\n",
        "\n",
        "In this section, the main focus will be manipulating the data and properties of DBSCAN and observing the resulting clustering.\n"
      ]
    },
    {
      "cell_type": "markdown",
      "metadata": {
        "id": "YtAXiKWj19UD"
      },
      "source": [
        "Import the following libraries:\n",
        "\n",
        "<ul>\n",
        "    <li> <b>numpy as np</b> </li>\n",
        "    <li> <b>DBSCAN</b> from <b>sklearn.cluster</b> </li>\n",
        "    <li> <b>make_blobs</b> from <b>sklearn.datasets.samples_generator</b> </li>\n",
        "    <li> <b>StandardScaler</b> from <b>sklearn.preprocessing</b> </li>\n",
        "    <li> <b>matplotlib.pyplot as plt</b> </li>\n",
        "</ul> <br>\n",
        "Remember <b> %matplotlib inline </b> to display plots\n"
      ]
    },
    {
      "cell_type": "code",
      "metadata": {
        "id": "JW6OaIHt19UE"
      },
      "source": [
        "# Notice: For visualization of map, you need basemap package.\n",
        "# if you dont have basemap install on your machine, you can use the following line to install it\n",
        "!conda install -c conda-forge  basemap matplotlib==3.1 -y\n",
        "# Notice: you maight have to refresh your page and re-run the notebook after installation"
      ],
      "execution_count": null,
      "outputs": []
    },
    {
      "cell_type": "code",
      "metadata": {
        "id": "hCfaZ0jv19UF"
      },
      "source": [
        "import numpy as np \n",
        "from sklearn.cluster import DBSCAN \n",
        "from sklearn.datasets import make_blobs \n",
        "from sklearn.preprocessing import StandardScaler \n",
        "import matplotlib.pyplot as plt \n",
        "%matplotlib inline"
      ],
      "execution_count": null,
      "outputs": []
    },
    {
      "cell_type": "markdown",
      "metadata": {
        "id": "R9yTBY0X19UF"
      },
      "source": [
        "### Data generation\n",
        "\n",
        "The function below will generate the data points and requires these inputs:\n",
        "\n",
        "<ul>\n",
        "    <li> <b>centroidLocation</b>: Coordinates of the centroids that will generate the random data. </li>\n",
        "    <ul> <li> Example: input: [[4,3], [2,-1], [-1,4]] </li> </ul>\n",
        "    <li> <b>numSamples</b>: The number of data points we want generated, split over the number of centroids (# of centroids defined in centroidLocation) </li>\n",
        "    <ul> <li> Example: 1500 </li> </ul>\n",
        "    <li> <b>clusterDeviation</b>: The standard deviation of the clusters. The larger the number, the further the spacing of the data points within the clusters. </li>\n",
        "    <ul> <li> Example: 0.5 </li> </ul>\n",
        "</ul>\n"
      ]
    },
    {
      "cell_type": "code",
      "metadata": {
        "id": "ISSzqiOI19UG"
      },
      "source": [
        "def createDataPoints(centroidLocation, numSamples, clusterDeviation):\n",
        "    # Create random data and store in feature matrix X and response vector y.\n",
        "    X, y = make_blobs(n_samples=numSamples, centers=centroidLocation, \n",
        "                                cluster_std=clusterDeviation)\n",
        "    \n",
        "    # Standardize features by removing the mean and scaling to unit variance\n",
        "    X = StandardScaler().fit_transform(X)\n",
        "    return X, y"
      ],
      "execution_count": null,
      "outputs": []
    },
    {
      "cell_type": "markdown",
      "metadata": {
        "id": "td86afS319UH"
      },
      "source": [
        "Use <b>createDataPoints</b> with the <b>3 inputs</b> and store the output into variables <b>X</b> and <b>y</b>.\n"
      ]
    },
    {
      "cell_type": "code",
      "metadata": {
        "id": "Ua7iiXmr19UI"
      },
      "source": [
        "X, y = createDataPoints([[4,3], [2,-1], [-1,4]] , 1500, 0.5)"
      ],
      "execution_count": null,
      "outputs": []
    },
    {
      "cell_type": "markdown",
      "metadata": {
        "id": "AbpdxebS19UJ"
      },
      "source": [
        "### Modeling\n",
        "\n",
        "DBSCAN stands for Density-Based Spatial Clustering of Applications with Noise. This technique is one of the most common clustering algorithms  which works based on density of object.\n",
        "The whole idea is that if a particular point belongs to a cluster, it should be near to lots of other points in that cluster.\n",
        "\n",
        "It works based on two parameters: Epsilon and Minimum Points\\\n",
        "**Epsilon** determine a specified radius that if includes enough number of points within, we call it dense area\\\n",
        "**minimumSamples** determine the minimum number of data points we want in a neighborhood to define a cluster.\n"
      ]
    },
    {
      "cell_type": "code",
      "metadata": {
        "id": "PpGDhvyS19UK",
        "outputId": "c2728c86-355b-4946-8894-6508db3700d4"
      },
      "source": [
        "epsilon = 0.3\n",
        "minimumSamples = 7\n",
        "db = DBSCAN(eps=epsilon, min_samples=minimumSamples).fit(X)\n",
        "labels = db.labels_\n",
        "labels"
      ],
      "execution_count": null,
      "outputs": [
        {
          "data": {
            "text/plain": [
              "array([0, 0, 1, ..., 1, 0, 1], dtype=int64)"
            ]
          },
          "execution_count": 7,
          "metadata": {},
          "output_type": "execute_result"
        }
      ]
    },
    {
      "cell_type": "markdown",
      "metadata": {
        "id": "x2Zp8MVf19UM"
      },
      "source": [
        "### Distinguish outliers\n",
        "\n",
        "Let's Replace all elements with 'True' in core_samples_mask that are in the cluster, 'False' if the points are outliers.\n"
      ]
    },
    {
      "cell_type": "code",
      "metadata": {
        "id": "kYqX9d5K19UN",
        "outputId": "4cc7d803-a64c-4a16-d369-0bc7413340eb"
      },
      "source": [
        "# Firts, create an array of booleans using the labels from db.\n",
        "core_samples_mask = np.zeros_like(db.labels_, dtype=bool)\n",
        "core_samples_mask[db.core_sample_indices_] = True\n",
        "core_samples_mask"
      ],
      "execution_count": null,
      "outputs": [
        {
          "data": {
            "text/plain": [
              "array([ True,  True,  True, ...,  True,  True,  True])"
            ]
          },
          "execution_count": 8,
          "metadata": {},
          "output_type": "execute_result"
        }
      ]
    },
    {
      "cell_type": "code",
      "metadata": {
        "id": "PDcjzhq419UN",
        "outputId": "7beca43b-b0cf-489b-cc1a-4d6cf3eb3ae6"
      },
      "source": [
        "# Number of clusters in labels, ignoring noise if present.\n",
        "n_clusters_ = len(set(labels)) - (1 if -1 in labels else 0)\n",
        "n_clusters_"
      ],
      "execution_count": null,
      "outputs": [
        {
          "data": {
            "text/plain": [
              "3"
            ]
          },
          "execution_count": 11,
          "metadata": {},
          "output_type": "execute_result"
        }
      ]
    },
    {
      "cell_type": "code",
      "metadata": {
        "id": "EoKF8j-k19UO",
        "outputId": "052c3869-1ee7-4c59-edd3-028b14e2438d"
      },
      "source": [
        "# Remove repetition in labels by turning it into a set.\n",
        "unique_labels = set(labels)\n",
        "unique_labels"
      ],
      "execution_count": null,
      "outputs": [
        {
          "data": {
            "text/plain": [
              "{-1, 0, 1, 2}"
            ]
          },
          "execution_count": 12,
          "metadata": {},
          "output_type": "execute_result"
        }
      ]
    },
    {
      "cell_type": "markdown",
      "metadata": {
        "id": "WJnRI83q19UP"
      },
      "source": [
        "### Data visualization\n"
      ]
    },
    {
      "cell_type": "code",
      "metadata": {
        "id": "bL4WkPlC19UP"
      },
      "source": [
        "# Create colors for the clusters.\n",
        "colors = plt.cm.Spectral(np.linspace(0, 1, len(unique_labels)))\n"
      ],
      "execution_count": null,
      "outputs": []
    },
    {
      "cell_type": "code",
      "metadata": {
        "scrolled": true,
        "id": "AMPwhr9b19UQ",
        "outputId": "aba854c4-e36b-4f2f-de87-e9fe68b4dec6"
      },
      "source": [
        "# Plot the points with colors\n",
        "for k, col in zip(unique_labels, colors):\n",
        "    if k == -1:\n",
        "        # Black used for noise.\n",
        "        col = 'k'\n",
        "\n",
        "    class_member_mask = (labels == k)\n",
        "\n",
        "    # Plot the datapoints that are clustered\n",
        "    xy = X[class_member_mask & core_samples_mask]\n",
        "    plt.scatter(xy[:, 0], xy[:, 1],s=50, c=[col], marker=u'o', alpha=0.5)\n",
        "\n",
        "    # Plot the outliers\n",
        "    xy = X[class_member_mask & ~core_samples_mask]\n",
        "    plt.scatter(xy[:, 0], xy[:, 1],s=50, c=[col], marker=u'o', alpha=0.5)"
      ],
      "execution_count": null,
      "outputs": [
        {
          "data": {
            "image/png": "[encoded data removed]",
            "text/plain": [
              "<Figure size 432x288 with 1 Axes>"
            ]
          },
          "metadata": {
            "needs_background": "light"
          },
          "output_type": "display_data"
        }
      ]
    },
    {
      "cell_type": "markdown",
      "metadata": {
        "id": "OTGg82lT19UR"
      },
      "source": [
        "## Practice\n",
        "\n",
        "To better understand differences between partitional and density-based clustering, try to cluster the above dataset into 3 clusters using k-Means.\\\n",
        "Notice: do not generate data again, use the same dataset as above.\n"
      ]
    },
    {
      "cell_type": "code",
      "metadata": {
        "id": "AxNV6kD619UR",
        "outputId": "867d4920-68e0-44bb-b534-a49394534cdf"
      },
      "source": [
        "from sklearn.cluster import KMeans \n",
        "k = 3\n",
        "k_means3 = KMeans(init = \"k-means++\", n_clusters = k, n_init = 12)\n",
        "k_means3.fit(X)\n",
        "fig = plt.figure(figsize=(6, 4))\n",
        "ax = fig.add_subplot(1, 1, 1)\n",
        "for k, col in zip(range(k), colors):\n",
        "    my_members = (k_means3.labels_ == k)\n",
        "    plt.scatter(X[my_members, 0], X[my_members, 1],  c=col, marker=u'o', alpha=0.5)\n",
        "plt.show()\n",
        "\n"
      ],
      "execution_count": null,
      "outputs": [
        {
          "name": "stderr",
          "output_type": "stream",
          "text": [
            "'c' argument looks like a single numeric RGB or RGBA sequence, which should be avoided as value-mapping will have precedence in case its length matches with 'x' & 'y'.  Please use a 2-D array with a single row if you really want to specify the same RGB or RGBA value for all points.\n",
            "'c' argument looks like a single numeric RGB or RGBA sequence, which should be avoided as value-mapping will have precedence in case its length matches with 'x' & 'y'.  Please use a 2-D array with a single row if you really want to specify the same RGB or RGBA value for all points.\n",
            "'c' argument looks like a single numeric RGB or RGBA sequence, which should be avoided as value-mapping will have precedence in case its length matches with 'x' & 'y'.  Please use a 2-D array with a single row if you really want to specify the same RGB or RGBA value for all points.\n"
          ]
        },
        {
          "data": {
            "image/png": "[encoded data removed]",
            "text/plain": [
              "<Figure size 432x288 with 1 Axes>"
            ]
          },
          "metadata": {
            "needs_background": "light"
          },
          "output_type": "display_data"
        }
      ]
    },
    {
      "cell_type": "markdown",
      "metadata": {
        "id": "ws0tAENS19US"
      },
      "source": [
        "<details><summary>Click here for the solution</summary>\n",
        "\n",
        "```python\n",
        "from sklearn.cluster import KMeans \n",
        "k = 3\n",
        "k_means3 = KMeans(init = \"k-means++\", n_clusters = k, n_init = 12)\n",
        "k_means3.fit(X)\n",
        "fig = plt.figure(figsize=(6, 4))\n",
        "ax = fig.add_subplot(1, 1, 1)\n",
        "for k, col in zip(range(k), colors):\n",
        "    my_members = (k_means3.labels_ == k)\n",
        "    plt.scatter(X[my_members, 0], X[my_members, 1],  c=col, marker=u'o', alpha=0.5)\n",
        "plt.show()\n",
        "\n",
        "```\n",
        "\n",
        "</details>\n"
      ]
    },
    {
      "cell_type": "markdown",
      "metadata": {
        "id": "B4CD2t0x19US"
      },
      "source": [
        "<h1 align=center> Weather Station Clustering using DBSCAN & scikit-learn </h1>\n",
        "<hr>\n",
        "\n",
        "DBSCAN is especially very good for tasks like class identification in a spatial context. The wonderful attribute of DBSCAN algorithm is that it can find out any arbitrary shape cluster without getting affected by noise. For example, this following example cluster the location of weather stations in Canada.\n",
        "\\<Click 1>\n",
        "DBSCAN can be used here, for instance, to find the group of stations which show the same weather condition. As you can see, it not only finds different arbitrary shaped clusters, can find the denser part of data-centered samples by ignoring less-dense areas or noises.\n",
        "\n",
        "Let's start playing with the data. We will be working according to the following workflow: </font>\n",
        "\n",
        "1.  Loading data\n",
        "\n",
        "*   Overview data\n",
        "*   Data cleaning\n",
        "*   Data selection\n",
        "*   Clusteing\n"
      ]
    },
    {
      "cell_type": "markdown",
      "metadata": {
        "id": "j1b8Zmue19UT"
      },
      "source": [
        "### 1-Download data\n",
        "\n",
        "To download the data, we will use **`!wget`** to download it from IBM Object Storage.\\\n",
        "\n"
      ]
    },
    {
      "cell_type": "code",
      "metadata": {
        "id": "KFKrRFV219UU"
      },
      "source": [
        "!wget -O weather-stations20140101-20141231.csv https://cf-courses-data.s3.us.cloud-object-storage.appdomain.cloud/IBMDeveloperSkillsNetwork-ML0101EN-SkillsNetwork/labs/Module%204/data/weather-stations20140101-20141231.csv"
      ],
      "execution_count": null,
      "outputs": []
    },
    {
      "cell_type": "markdown",
      "metadata": {
        "id": "AsFJRrZg19UU"
      },
      "source": [
        "### 2- Load the dataset\n",
        "\n",
        "We will import the .csv then we creates the columns for year, month and day.\n"
      ]
    },
    {
      "cell_type": "code",
      "metadata": {
        "id": "gOEOqbBw19UU",
        "outputId": "a8a17848-2868-4418-f22c-d28e034102f5"
      },
      "source": [
        "import csv\n",
        "import pandas as pd\n",
        "import numpy as np\n",
        "\n",
        "filename='weather-stations20140101-20141231.csv'\n",
        "\n",
        "#Read csv\n",
        "pdf = pd.read_csv(filename)\n",
        "pdf.head(5)"
      ],
      "execution_count": null,
      "outputs": [
        {
          "data": {
            "text/html": [
              "<div>\n",
              "<style scoped>\n",
              "    .dataframe tbody tr th:only-of-type {\n",
              "        vertical-align: middle;\n",
              "    }\n",
              "\n",
              "    .dataframe tbody tr th {\n",
              "        vertical-align: top;\n",
              "    }\n",
              "\n",
              "    .dataframe thead th {\n",
              "        text-align: right;\n",
              "    }\n",
              "</style>\n",
              "<table border=\"1\" class=\"dataframe\">\n",
              "  <thead>\n",
              "    <tr style=\"text-align: right;\">\n",
              "      <th></th>\n",
              "      <th>Stn_Name</th>\n",
              "      <th>Lat</th>\n",
              "      <th>Long</th>\n",
              "      <th>Prov</th>\n",
              "      <th>Tm</th>\n",
              "      <th>DwTm</th>\n",
              "      <th>D</th>\n",
              "      <th>Tx</th>\n",
              "      <th>DwTx</th>\n",
              "      <th>Tn</th>\n",
              "      <th>...</th>\n",
              "      <th>DwP</th>\n",
              "      <th>P%N</th>\n",
              "      <th>S_G</th>\n",
              "      <th>Pd</th>\n",
              "      <th>BS</th>\n",
              "      <th>DwBS</th>\n",
              "      <th>BS%</th>\n",
              "      <th>HDD</th>\n",
              "      <th>CDD</th>\n",
              "      <th>Stn_No</th>\n",
              "    </tr>\n",
              "  </thead>\n",
              "  <tbody>\n",
              "    <tr>\n",
              "      <th>0</th>\n",
              "      <td>CHEMAINUS</td>\n",
              "      <td>48.935</td>\n",
              "      <td>-123.742</td>\n",
              "      <td>BC</td>\n",
              "      <td>8.2</td>\n",
              "      <td>0.0</td>\n",
              "      <td>NaN</td>\n",
              "      <td>13.5</td>\n",
              "      <td>0.0</td>\n",
              "      <td>1.0</td>\n",
              "      <td>...</td>\n",
              "      <td>0.0</td>\n",
              "      <td>NaN</td>\n",
              "      <td>0.0</td>\n",
              "      <td>12.0</td>\n",
              "      <td>NaN</td>\n",
              "      <td>NaN</td>\n",
              "      <td>NaN</td>\n",
              "      <td>273.3</td>\n",
              "      <td>0.0</td>\n",
              "      <td>1011500</td>\n",
              "    </tr>\n",
              "    <tr>\n",
              "      <th>1</th>\n",
              "      <td>COWICHAN LAKE FORESTRY</td>\n",
              "      <td>48.824</td>\n",
              "      <td>-124.133</td>\n",
              "      <td>BC</td>\n",
              "      <td>7.0</td>\n",
              "      <td>0.0</td>\n",
              "      <td>3.0</td>\n",
              "      <td>15.0</td>\n",
              "      <td>0.0</td>\n",
              "      <td>-3.0</td>\n",
              "      <td>...</td>\n",
              "      <td>0.0</td>\n",
              "      <td>104.0</td>\n",
              "      <td>0.0</td>\n",
              "      <td>12.0</td>\n",
              "      <td>NaN</td>\n",
              "      <td>NaN</td>\n",
              "      <td>NaN</td>\n",
              "      <td>307.0</td>\n",
              "      <td>0.0</td>\n",
              "      <td>1012040</td>\n",
              "    </tr>\n",
              "    <tr>\n",
              "      <th>2</th>\n",
              "      <td>LAKE COWICHAN</td>\n",
              "      <td>48.829</td>\n",
              "      <td>-124.052</td>\n",
              "      <td>BC</td>\n",
              "      <td>6.8</td>\n",
              "      <td>13.0</td>\n",
              "      <td>2.8</td>\n",
              "      <td>16.0</td>\n",
              "      <td>9.0</td>\n",
              "      <td>-2.5</td>\n",
              "      <td>...</td>\n",
              "      <td>9.0</td>\n",
              "      <td>NaN</td>\n",
              "      <td>NaN</td>\n",
              "      <td>11.0</td>\n",
              "      <td>NaN</td>\n",
              "      <td>NaN</td>\n",
              "      <td>NaN</td>\n",
              "      <td>168.1</td>\n",
              "      <td>0.0</td>\n",
              "      <td>1012055</td>\n",
              "    </tr>\n",
              "    <tr>\n",
              "      <th>3</th>\n",
              "      <td>DISCOVERY ISLAND</td>\n",
              "      <td>48.425</td>\n",
              "      <td>-123.226</td>\n",
              "      <td>BC</td>\n",
              "      <td>NaN</td>\n",
              "      <td>NaN</td>\n",
              "      <td>NaN</td>\n",
              "      <td>12.5</td>\n",
              "      <td>0.0</td>\n",
              "      <td>NaN</td>\n",
              "      <td>...</td>\n",
              "      <td>NaN</td>\n",
              "      <td>NaN</td>\n",
              "      <td>NaN</td>\n",
              "      <td>NaN</td>\n",
              "      <td>NaN</td>\n",
              "      <td>NaN</td>\n",
              "      <td>NaN</td>\n",
              "      <td>NaN</td>\n",
              "      <td>NaN</td>\n",
              "      <td>1012475</td>\n",
              "    </tr>\n",
              "    <tr>\n",
              "      <th>4</th>\n",
              "      <td>DUNCAN KELVIN CREEK</td>\n",
              "      <td>48.735</td>\n",
              "      <td>-123.728</td>\n",
              "      <td>BC</td>\n",
              "      <td>7.7</td>\n",
              "      <td>2.0</td>\n",
              "      <td>3.4</td>\n",
              "      <td>14.5</td>\n",
              "      <td>2.0</td>\n",
              "      <td>-1.0</td>\n",
              "      <td>...</td>\n",
              "      <td>2.0</td>\n",
              "      <td>NaN</td>\n",
              "      <td>NaN</td>\n",
              "      <td>11.0</td>\n",
              "      <td>NaN</td>\n",
              "      <td>NaN</td>\n",
              "      <td>NaN</td>\n",
              "      <td>267.7</td>\n",
              "      <td>0.0</td>\n",
              "      <td>1012573</td>\n",
              "    </tr>\n",
              "  </tbody>\n",
              "</table>\n",
              "<p>5 rows × 25 columns</p>\n",
              "</div>"
            ],
            "text/plain": [
              "                 Stn_Name     Lat     Long Prov   Tm  DwTm    D    Tx  DwTx  \\\n",
              "0               CHEMAINUS  48.935 -123.742   BC  8.2   0.0  NaN  13.5   0.0   \n",
              "1  COWICHAN LAKE FORESTRY  48.824 -124.133   BC  7.0   0.0  3.0  15.0   0.0   \n",
              "2           LAKE COWICHAN  48.829 -124.052   BC  6.8  13.0  2.8  16.0   9.0   \n",
              "3        DISCOVERY ISLAND  48.425 -123.226   BC  NaN   NaN  NaN  12.5   0.0   \n",
              "4     DUNCAN KELVIN CREEK  48.735 -123.728   BC  7.7   2.0  3.4  14.5   2.0   \n",
              "\n",
              "    Tn  ...  DwP    P%N  S_G    Pd  BS  DwBS  BS%    HDD  CDD   Stn_No  \n",
              "0  1.0  ...  0.0    NaN  0.0  12.0 NaN   NaN  NaN  273.3  0.0  1011500  \n",
              "1 -3.0  ...  0.0  104.0  0.0  12.0 NaN   NaN  NaN  307.0  0.0  1012040  \n",
              "2 -2.5  ...  9.0    NaN  NaN  11.0 NaN   NaN  NaN  168.1  0.0  1012055  \n",
              "3  NaN  ...  NaN    NaN  NaN   NaN NaN   NaN  NaN    NaN  NaN  1012475  \n",
              "4 -1.0  ...  2.0    NaN  NaN  11.0 NaN   NaN  NaN  267.7  0.0  1012573  \n",
              "\n",
              "[5 rows x 25 columns]"
            ]
          },
          "execution_count": 16,
          "metadata": {},
          "output_type": "execute_result"
        }
      ]
    },
    {
      "cell_type": "markdown",
      "metadata": {
        "id": "pXYPkDSu19UU"
      },
      "source": [
        "### 3-Cleaning\n",
        "\n",
        "Let's remove rows that don't have any value in the **Tm** field.\n"
      ]
    },
    {
      "cell_type": "code",
      "metadata": {
        "id": "PHtzMGt119UV",
        "outputId": "d3211171-9274-4059-cfe7-1a470b4162a3"
      },
      "source": [
        "pdf = pdf[pd.notnull(pdf[\"Tm\"])]\n",
        "pdf = pdf.reset_index(drop=True)\n",
        "pdf.head(5)"
      ],
      "execution_count": null,
      "outputs": [
        {
          "data": {
            "text/html": [
              "<div>\n",
              "<style scoped>\n",
              "    .dataframe tbody tr th:only-of-type {\n",
              "        vertical-align: middle;\n",
              "    }\n",
              "\n",
              "    .dataframe tbody tr th {\n",
              "        vertical-align: top;\n",
              "    }\n",
              "\n",
              "    .dataframe thead th {\n",
              "        text-align: right;\n",
              "    }\n",
              "</style>\n",
              "<table border=\"1\" class=\"dataframe\">\n",
              "  <thead>\n",
              "    <tr style=\"text-align: right;\">\n",
              "      <th></th>\n",
              "      <th>Stn_Name</th>\n",
              "      <th>Lat</th>\n",
              "      <th>Long</th>\n",
              "      <th>Prov</th>\n",
              "      <th>Tm</th>\n",
              "      <th>DwTm</th>\n",
              "      <th>D</th>\n",
              "      <th>Tx</th>\n",
              "      <th>DwTx</th>\n",
              "      <th>Tn</th>\n",
              "      <th>...</th>\n",
              "      <th>DwP</th>\n",
              "      <th>P%N</th>\n",
              "      <th>S_G</th>\n",
              "      <th>Pd</th>\n",
              "      <th>BS</th>\n",
              "      <th>DwBS</th>\n",
              "      <th>BS%</th>\n",
              "      <th>HDD</th>\n",
              "      <th>CDD</th>\n",
              "      <th>Stn_No</th>\n",
              "    </tr>\n",
              "  </thead>\n",
              "  <tbody>\n",
              "    <tr>\n",
              "      <th>0</th>\n",
              "      <td>CHEMAINUS</td>\n",
              "      <td>48.935</td>\n",
              "      <td>-123.742</td>\n",
              "      <td>BC</td>\n",
              "      <td>8.2</td>\n",
              "      <td>0.0</td>\n",
              "      <td>NaN</td>\n",
              "      <td>13.5</td>\n",
              "      <td>0.0</td>\n",
              "      <td>1.0</td>\n",
              "      <td>...</td>\n",
              "      <td>0.0</td>\n",
              "      <td>NaN</td>\n",
              "      <td>0.0</td>\n",
              "      <td>12.0</td>\n",
              "      <td>NaN</td>\n",
              "      <td>NaN</td>\n",
              "      <td>NaN</td>\n",
              "      <td>273.3</td>\n",
              "      <td>0.0</td>\n",
              "      <td>1011500</td>\n",
              "    </tr>\n",
              "    <tr>\n",
              "      <th>1</th>\n",
              "      <td>COWICHAN LAKE FORESTRY</td>\n",
              "      <td>48.824</td>\n",
              "      <td>-124.133</td>\n",
              "      <td>BC</td>\n",
              "      <td>7.0</td>\n",
              "      <td>0.0</td>\n",
              "      <td>3.0</td>\n",
              "      <td>15.0</td>\n",
              "      <td>0.0</td>\n",
              "      <td>-3.0</td>\n",
              "      <td>...</td>\n",
              "      <td>0.0</td>\n",
              "      <td>104.0</td>\n",
              "      <td>0.0</td>\n",
              "      <td>12.0</td>\n",
              "      <td>NaN</td>\n",
              "      <td>NaN</td>\n",
              "      <td>NaN</td>\n",
              "      <td>307.0</td>\n",
              "      <td>0.0</td>\n",
              "      <td>1012040</td>\n",
              "    </tr>\n",
              "    <tr>\n",
              "      <th>2</th>\n",
              "      <td>LAKE COWICHAN</td>\n",
              "      <td>48.829</td>\n",
              "      <td>-124.052</td>\n",
              "      <td>BC</td>\n",
              "      <td>6.8</td>\n",
              "      <td>13.0</td>\n",
              "      <td>2.8</td>\n",
              "      <td>16.0</td>\n",
              "      <td>9.0</td>\n",
              "      <td>-2.5</td>\n",
              "      <td>...</td>\n",
              "      <td>9.0</td>\n",
              "      <td>NaN</td>\n",
              "      <td>NaN</td>\n",
              "      <td>11.0</td>\n",
              "      <td>NaN</td>\n",
              "      <td>NaN</td>\n",
              "      <td>NaN</td>\n",
              "      <td>168.1</td>\n",
              "      <td>0.0</td>\n",
              "      <td>1012055</td>\n",
              "    </tr>\n",
              "    <tr>\n",
              "      <th>3</th>\n",
              "      <td>DUNCAN KELVIN CREEK</td>\n",
              "      <td>48.735</td>\n",
              "      <td>-123.728</td>\n",
              "      <td>BC</td>\n",
              "      <td>7.7</td>\n",
              "      <td>2.0</td>\n",
              "      <td>3.4</td>\n",
              "      <td>14.5</td>\n",
              "      <td>2.0</td>\n",
              "      <td>-1.0</td>\n",
              "      <td>...</td>\n",
              "      <td>2.0</td>\n",
              "      <td>NaN</td>\n",
              "      <td>NaN</td>\n",
              "      <td>11.0</td>\n",
              "      <td>NaN</td>\n",
              "      <td>NaN</td>\n",
              "      <td>NaN</td>\n",
              "      <td>267.7</td>\n",
              "      <td>0.0</td>\n",
              "      <td>1012573</td>\n",
              "    </tr>\n",
              "    <tr>\n",
              "      <th>4</th>\n",
              "      <td>ESQUIMALT HARBOUR</td>\n",
              "      <td>48.432</td>\n",
              "      <td>-123.439</td>\n",
              "      <td>BC</td>\n",
              "      <td>8.8</td>\n",
              "      <td>0.0</td>\n",
              "      <td>NaN</td>\n",
              "      <td>13.1</td>\n",
              "      <td>0.0</td>\n",
              "      <td>1.9</td>\n",
              "      <td>...</td>\n",
              "      <td>8.0</td>\n",
              "      <td>NaN</td>\n",
              "      <td>NaN</td>\n",
              "      <td>12.0</td>\n",
              "      <td>NaN</td>\n",
              "      <td>NaN</td>\n",
              "      <td>NaN</td>\n",
              "      <td>258.6</td>\n",
              "      <td>0.0</td>\n",
              "      <td>1012710</td>\n",
              "    </tr>\n",
              "  </tbody>\n",
              "</table>\n",
              "<p>5 rows × 25 columns</p>\n",
              "</div>"
            ],
            "text/plain": [
              "                 Stn_Name     Lat     Long Prov   Tm  DwTm    D    Tx  DwTx  \\\n",
              "0               CHEMAINUS  48.935 -123.742   BC  8.2   0.0  NaN  13.5   0.0   \n",
              "1  COWICHAN LAKE FORESTRY  48.824 -124.133   BC  7.0   0.0  3.0  15.0   0.0   \n",
              "2           LAKE COWICHAN  48.829 -124.052   BC  6.8  13.0  2.8  16.0   9.0   \n",
              "3     DUNCAN KELVIN CREEK  48.735 -123.728   BC  7.7   2.0  3.4  14.5   2.0   \n",
              "4       ESQUIMALT HARBOUR  48.432 -123.439   BC  8.8   0.0  NaN  13.1   0.0   \n",
              "\n",
              "    Tn  ...  DwP    P%N  S_G    Pd  BS  DwBS  BS%    HDD  CDD   Stn_No  \n",
              "0  1.0  ...  0.0    NaN  0.0  12.0 NaN   NaN  NaN  273.3  0.0  1011500  \n",
              "1 -3.0  ...  0.0  104.0  0.0  12.0 NaN   NaN  NaN  307.0  0.0  1012040  \n",
              "2 -2.5  ...  9.0    NaN  NaN  11.0 NaN   NaN  NaN  168.1  0.0  1012055  \n",
              "3 -1.0  ...  2.0    NaN  NaN  11.0 NaN   NaN  NaN  267.7  0.0  1012573  \n",
              "4  1.9  ...  8.0    NaN  NaN  12.0 NaN   NaN  NaN  258.6  0.0  1012710  \n",
              "\n",
              "[5 rows x 25 columns]"
            ]
          },
          "execution_count": 17,
          "metadata": {},
          "output_type": "execute_result"
        }
      ]
    },
    {
      "cell_type": "markdown",
      "metadata": {
        "id": "Zejt3vcI19UV"
      },
      "source": [
        "### 4-Visualization\n",
        "\n",
        "Visualization of stations on map using basemap package. The matplotlib basemap toolkit is a library for plotting 2D data on maps in Python. Basemap does not do any plotting on it’s own, but provides the facilities to transform coordinates to a map projections.\n",
        "\n",
        "Please notice that the size of each data points represents the average of maximum temperature for each station in a year.\n"
      ]
    },
    {
      "cell_type": "code",
      "metadata": {
        "id": "Nhs9kKi119UV",
        "outputId": "d92e4f96-721f-4ac5-8121-2f3f2e1e0711"
      },
      "source": [
        "mpl_toolkits.__path__.append('C:\\Users\\Spyx\\Anaconda3\\Lib\\site-packages\\mpl_toolkits/')\n",
        "from mpl_toolkits.basemap import Basemap\n",
        "import matplotlib.pyplot as plt\n",
        "from pylab import rcParams\n",
        "%matplotlib inline\n",
        "rcParams['figure.figsize'] = (14,10)\n",
        "\n",
        "llon=-140\n",
        "ulon=-50\n",
        "llat=40\n",
        "ulat=65\n",
        "\n",
        "pdf = pdf[(pdf['Long'] > llon) & (pdf['Long'] < ulon) & (pdf['Lat'] > llat) &(pdf['Lat'] < ulat)]\n",
        "\n",
        "my_map = Basemap(projection='merc',\n",
        "            resolution = 'l', area_thresh = 1000.0,\n",
        "            llcrnrlon=llon, llcrnrlat=llat, #min longitude (llcrnrlon) and latitude (llcrnrlat)\n",
        "            urcrnrlon=ulon, urcrnrlat=ulat) #max longitude (urcrnrlon) and latitude (urcrnrlat)\n",
        "\n",
        "my_map.drawcoastlines()\n",
        "my_map.drawcountries()\n",
        "# my_map.drawmapboundary()\n",
        "my_map.fillcontinents(color = 'white', alpha = 0.3)\n",
        "my_map.shadedrelief()\n",
        "\n",
        "# To collect data based on stations        \n",
        "\n",
        "xs,ys = my_map(np.asarray(pdf.Long), np.asarray(pdf.Lat))\n",
        "pdf['xm']= xs.tolist()\n",
        "pdf['ym'] =ys.tolist()\n",
        "\n",
        "#Visualization1\n",
        "for index,row in pdf.iterrows():\n",
        "#   x,y = my_map(row.Long, row.Lat)\n",
        "   my_map.plot(row.xm, row.ym,markerfacecolor =([1,0,0]),  marker='o', markersize= 5, alpha = 0.75)\n",
        "#plt.text(x,y,stn)\n",
        "plt.show()\n",
        "\n"
      ],
      "execution_count": null,
      "outputs": [
        {
          "ename": "SyntaxError",
          "evalue": "(unicode error) 'unicodeescape' codec can't decode bytes in position 2-3: truncated \\UXXXXXXXX escape (<ipython-input-21-642200d35b08>, line 1)",
          "output_type": "error",
          "traceback": [
            "\u001b[1;36m  File \u001b[1;32m\"<ipython-input-21-642200d35b08>\"\u001b[1;36m, line \u001b[1;32m1\u001b[0m\n\u001b[1;33m    mpl_toolkits.__path__.append('C:\\Users\\Spyx\\Anaconda3\\Lib\\site-packages\\mpl_toolkits/')\u001b[0m\n\u001b[1;37m                                ^\u001b[0m\n\u001b[1;31mSyntaxError\u001b[0m\u001b[1;31m:\u001b[0m (unicode error) 'unicodeescape' codec can't decode bytes in position 2-3: truncated \\UXXXXXXXX escape\n"
          ]
        }
      ]
    },
    {
      "cell_type": "markdown",
      "metadata": {
        "id": "PsqAG_bz19UV"
      },
      "source": [
        "### 5- Clustering of stations based on their location i.e. Lat & Lon\n",
        "\n",
        "**DBSCAN** form sklearn library can runs DBSCAN clustering from vector array or distance matrix. In our case, we pass it the Numpy array Clus_dataSet to find core samples of high density and expands clusters from them.\n"
      ]
    },
    {
      "cell_type": "code",
      "metadata": {
        "id": "3V9LwG-u19UW",
        "outputId": "8769053e-5359-4687-abce-e797484354d2"
      },
      "source": [
        "from sklearn.cluster import DBSCAN\n",
        "import sklearn.utils\n",
        "from sklearn.preprocessing import StandardScaler\n",
        "sklearn.utils.check_random_state(1000)\n",
        "Clus_dataSet = pdf[['xm','ym']]\n",
        "Clus_dataSet = np.nan_to_num(Clus_dataSet)\n",
        "Clus_dataSet = StandardScaler().fit_transform(Clus_dataSet)\n",
        "\n",
        "# Compute DBSCAN\n",
        "db = DBSCAN(eps=0.15, min_samples=10).fit(Clus_dataSet)\n",
        "core_samples_mask = np.zeros_like(db.labels_, dtype=bool)\n",
        "core_samples_mask[db.core_sample_indices_] = True\n",
        "labels = db.labels_\n",
        "pdf[\"Clus_Db\"]=labels\n",
        "\n",
        "realClusterNum=len(set(labels)) - (1 if -1 in labels else 0)\n",
        "clusterNum = len(set(labels)) \n",
        "\n",
        "\n",
        "# A sample of clusters\n",
        "pdf[[\"Stn_Name\",\"Tx\",\"Tm\",\"Clus_Db\"]].head(5)"
      ],
      "execution_count": null,
      "outputs": [
        {
          "ename": "KeyError",
          "evalue": "\"None of [Index(['xm', 'ym'], dtype='object')] are in the [columns]\"",
          "output_type": "error",
          "traceback": [
            "\u001b[1;31m---------------------------------------------------------------------------\u001b[0m",
            "\u001b[1;31mKeyError\u001b[0m                                  Traceback (most recent call last)",
            "\u001b[1;32m<ipython-input-22-6300e51d4d85>\u001b[0m in \u001b[0;36m<module>\u001b[1;34m\u001b[0m\n\u001b[0;32m      3\u001b[0m \u001b[1;32mfrom\u001b[0m \u001b[0msklearn\u001b[0m\u001b[1;33m.\u001b[0m\u001b[0mpreprocessing\u001b[0m \u001b[1;32mimport\u001b[0m \u001b[0mStandardScaler\u001b[0m\u001b[1;33m\u001b[0m\u001b[1;33m\u001b[0m\u001b[0m\n\u001b[0;32m      4\u001b[0m \u001b[0msklearn\u001b[0m\u001b[1;33m.\u001b[0m\u001b[0mutils\u001b[0m\u001b[1;33m.\u001b[0m\u001b[0mcheck_random_state\u001b[0m\u001b[1;33m(\u001b[0m\u001b[1;36m1000\u001b[0m\u001b[1;33m)\u001b[0m\u001b[1;33m\u001b[0m\u001b[1;33m\u001b[0m\u001b[0m\n\u001b[1;32m----> 5\u001b[1;33m \u001b[0mClus_dataSet\u001b[0m \u001b[1;33m=\u001b[0m \u001b[0mpdf\u001b[0m\u001b[1;33m[\u001b[0m\u001b[1;33m[\u001b[0m\u001b[1;34m'xm'\u001b[0m\u001b[1;33m,\u001b[0m\u001b[1;34m'ym'\u001b[0m\u001b[1;33m]\u001b[0m\u001b[1;33m]\u001b[0m\u001b[1;33m\u001b[0m\u001b[1;33m\u001b[0m\u001b[0m\n\u001b[0m\u001b[0;32m      6\u001b[0m \u001b[0mClus_dataSet\u001b[0m \u001b[1;33m=\u001b[0m \u001b[0mnp\u001b[0m\u001b[1;33m.\u001b[0m\u001b[0mnan_to_num\u001b[0m\u001b[1;33m(\u001b[0m\u001b[0mClus_dataSet\u001b[0m\u001b[1;33m)\u001b[0m\u001b[1;33m\u001b[0m\u001b[1;33m\u001b[0m\u001b[0m\n\u001b[0;32m      7\u001b[0m \u001b[0mClus_dataSet\u001b[0m \u001b[1;33m=\u001b[0m \u001b[0mStandardScaler\u001b[0m\u001b[1;33m(\u001b[0m\u001b[1;33m)\u001b[0m\u001b[1;33m.\u001b[0m\u001b[0mfit_transform\u001b[0m\u001b[1;33m(\u001b[0m\u001b[0mClus_dataSet\u001b[0m\u001b[1;33m)\u001b[0m\u001b[1;33m\u001b[0m\u001b[1;33m\u001b[0m\u001b[0m\n",
            "\u001b[1;32m~\\Anaconda3\\lib\\site-packages\\pandas\\core\\frame.py\u001b[0m in \u001b[0;36m__getitem__\u001b[1;34m(self, key)\u001b[0m\n\u001b[0;32m   2932\u001b[0m                 \u001b[0mkey\u001b[0m \u001b[1;33m=\u001b[0m \u001b[0mlist\u001b[0m\u001b[1;33m(\u001b[0m\u001b[0mkey\u001b[0m\u001b[1;33m)\u001b[0m\u001b[1;33m\u001b[0m\u001b[1;33m\u001b[0m\u001b[0m\n\u001b[0;32m   2933\u001b[0m             indexer = self.loc._convert_to_indexer(key, axis=1,\n\u001b[1;32m-> 2934\u001b[1;33m                                                    raise_missing=True)\n\u001b[0m\u001b[0;32m   2935\u001b[0m \u001b[1;33m\u001b[0m\u001b[0m\n\u001b[0;32m   2936\u001b[0m         \u001b[1;31m# take() does not accept boolean indexers\u001b[0m\u001b[1;33m\u001b[0m\u001b[1;33m\u001b[0m\u001b[1;33m\u001b[0m\u001b[0m\n",
            "\u001b[1;32m~\\Anaconda3\\lib\\site-packages\\pandas\\core\\indexing.py\u001b[0m in \u001b[0;36m_convert_to_indexer\u001b[1;34m(self, obj, axis, is_setter, raise_missing)\u001b[0m\n\u001b[0;32m   1352\u001b[0m                 kwargs = {'raise_missing': True if is_setter else\n\u001b[0;32m   1353\u001b[0m                           raise_missing}\n\u001b[1;32m-> 1354\u001b[1;33m                 \u001b[1;32mreturn\u001b[0m \u001b[0mself\u001b[0m\u001b[1;33m.\u001b[0m\u001b[0m_get_listlike_indexer\u001b[0m\u001b[1;33m(\u001b[0m\u001b[0mobj\u001b[0m\u001b[1;33m,\u001b[0m \u001b[0maxis\u001b[0m\u001b[1;33m,\u001b[0m \u001b[1;33m**\u001b[0m\u001b[0mkwargs\u001b[0m\u001b[1;33m)\u001b[0m\u001b[1;33m[\u001b[0m\u001b[1;36m1\u001b[0m\u001b[1;33m]\u001b[0m\u001b[1;33m\u001b[0m\u001b[1;33m\u001b[0m\u001b[0m\n\u001b[0m\u001b[0;32m   1355\u001b[0m         \u001b[1;32melse\u001b[0m\u001b[1;33m:\u001b[0m\u001b[1;33m\u001b[0m\u001b[1;33m\u001b[0m\u001b[0m\n\u001b[0;32m   1356\u001b[0m             \u001b[1;32mtry\u001b[0m\u001b[1;33m:\u001b[0m\u001b[1;33m\u001b[0m\u001b[1;33m\u001b[0m\u001b[0m\n",
            "\u001b[1;32m~\\Anaconda3\\lib\\site-packages\\pandas\\core\\indexing.py\u001b[0m in \u001b[0;36m_get_listlike_indexer\u001b[1;34m(self, key, axis, raise_missing)\u001b[0m\n\u001b[0;32m   1159\u001b[0m         self._validate_read_indexer(keyarr, indexer,\n\u001b[0;32m   1160\u001b[0m                                     \u001b[0mo\u001b[0m\u001b[1;33m.\u001b[0m\u001b[0m_get_axis_number\u001b[0m\u001b[1;33m(\u001b[0m\u001b[0maxis\u001b[0m\u001b[1;33m)\u001b[0m\u001b[1;33m,\u001b[0m\u001b[1;33m\u001b[0m\u001b[1;33m\u001b[0m\u001b[0m\n\u001b[1;32m-> 1161\u001b[1;33m                                     raise_missing=raise_missing)\n\u001b[0m\u001b[0;32m   1162\u001b[0m         \u001b[1;32mreturn\u001b[0m \u001b[0mkeyarr\u001b[0m\u001b[1;33m,\u001b[0m \u001b[0mindexer\u001b[0m\u001b[1;33m\u001b[0m\u001b[1;33m\u001b[0m\u001b[0m\n\u001b[0;32m   1163\u001b[0m \u001b[1;33m\u001b[0m\u001b[0m\n",
            "\u001b[1;32m~\\Anaconda3\\lib\\site-packages\\pandas\\core\\indexing.py\u001b[0m in \u001b[0;36m_validate_read_indexer\u001b[1;34m(self, key, indexer, axis, raise_missing)\u001b[0m\n\u001b[0;32m   1244\u001b[0m                 raise KeyError(\n\u001b[0;32m   1245\u001b[0m                     u\"None of [{key}] are in the [{axis}]\".format(\n\u001b[1;32m-> 1246\u001b[1;33m                         key=key, axis=self.obj._get_axis_name(axis)))\n\u001b[0m\u001b[0;32m   1247\u001b[0m \u001b[1;33m\u001b[0m\u001b[0m\n\u001b[0;32m   1248\u001b[0m             \u001b[1;31m# We (temporarily) allow for some missing keys with .loc, except in\u001b[0m\u001b[1;33m\u001b[0m\u001b[1;33m\u001b[0m\u001b[1;33m\u001b[0m\u001b[0m\n",
            "\u001b[1;31mKeyError\u001b[0m: \"None of [Index(['xm', 'ym'], dtype='object')] are in the [columns]\""
          ]
        }
      ]
    },
    {
      "cell_type": "markdown",
      "metadata": {
        "id": "dcX3T8xK19UW"
      },
      "source": [
        "As you can see for outliers, the cluster label is -1\n"
      ]
    },
    {
      "cell_type": "code",
      "metadata": {
        "id": "k5p69OnR19UW"
      },
      "source": [
        "set(labels)"
      ],
      "execution_count": null,
      "outputs": []
    },
    {
      "cell_type": "markdown",
      "metadata": {
        "id": "FDtFjy-819UW"
      },
      "source": [
        "### 6- Visualization of clusters based on location\n",
        "\n",
        "Now, we can visualize the clusters using basemap:\n"
      ]
    },
    {
      "cell_type": "code",
      "metadata": {
        "id": "0swNPTZJ19UX"
      },
      "source": [
        "from mpl_toolkits.basemap import Basemap\n",
        "import matplotlib.pyplot as plt\n",
        "from pylab import rcParams\n",
        "%matplotlib inline\n",
        "rcParams['figure.figsize'] = (14,10)\n",
        "\n",
        "my_map = Basemap(projection='merc',\n",
        "            resolution = 'l', area_thresh = 1000.0,\n",
        "            llcrnrlon=llon, llcrnrlat=llat, #min longitude (llcrnrlon) and latitude (llcrnrlat)\n",
        "            urcrnrlon=ulon, urcrnrlat=ulat) #max longitude (urcrnrlon) and latitude (urcrnrlat)\n",
        "\n",
        "my_map.drawcoastlines()\n",
        "my_map.drawcountries()\n",
        "#my_map.drawmapboundary()\n",
        "my_map.fillcontinents(color = 'white', alpha = 0.3)\n",
        "my_map.shadedrelief()\n",
        "\n",
        "# To create a color map\n",
        "colors = plt.get_cmap('jet')(np.linspace(0.0, 1.0, clusterNum))\n",
        "\n",
        "\n",
        "\n",
        "#Visualization1\n",
        "for clust_number in set(labels):\n",
        "    c=(([0.4,0.4,0.4]) if clust_number == -1 else colors[np.int(clust_number)])\n",
        "    clust_set = pdf[pdf.Clus_Db == clust_number]                    \n",
        "    my_map.scatter(clust_set.xm, clust_set.ym, color =c,  marker='o', s= 20, alpha = 0.85)\n",
        "    if clust_number != -1:\n",
        "        cenx=np.mean(clust_set.xm) \n",
        "        ceny=np.mean(clust_set.ym) \n",
        "        plt.text(cenx,ceny,str(clust_number), fontsize=25, color='red',)\n",
        "        print (\"Cluster \"+str(clust_number)+', Avg Temp: '+ str(np.mean(clust_set.Tm)))"
      ],
      "execution_count": null,
      "outputs": []
    },
    {
      "cell_type": "markdown",
      "metadata": {
        "id": "5eL1ZXYI19UX"
      },
      "source": [
        "### 7- Clustering of stations based on their location, mean, max, and min Temperature\n",
        "\n",
        "In this section we re-run DBSCAN, but this time on a 5-dimensional dataset:\n"
      ]
    },
    {
      "cell_type": "code",
      "metadata": {
        "scrolled": true,
        "id": "XN-z2EnH19UX"
      },
      "source": [
        "from sklearn.cluster import DBSCAN\n",
        "import sklearn.utils\n",
        "from sklearn.preprocessing import StandardScaler\n",
        "sklearn.utils.check_random_state(1000)\n",
        "Clus_dataSet = pdf[['xm','ym','Tx','Tm','Tn']]\n",
        "Clus_dataSet = np.nan_to_num(Clus_dataSet)\n",
        "Clus_dataSet = StandardScaler().fit_transform(Clus_dataSet)\n",
        "\n",
        "# Compute DBSCAN\n",
        "db = DBSCAN(eps=0.3, min_samples=10).fit(Clus_dataSet)\n",
        "core_samples_mask = np.zeros_like(db.labels_, dtype=bool)\n",
        "core_samples_mask[db.core_sample_indices_] = True\n",
        "labels = db.labels_\n",
        "pdf[\"Clus_Db\"]=labels\n",
        "\n",
        "realClusterNum=len(set(labels)) - (1 if -1 in labels else 0)\n",
        "clusterNum = len(set(labels)) \n",
        "\n",
        "\n",
        "# A sample of clusters\n",
        "pdf[[\"Stn_Name\",\"Tx\",\"Tm\",\"Clus_Db\"]].head(5)"
      ],
      "execution_count": null,
      "outputs": []
    },
    {
      "cell_type": "markdown",
      "metadata": {
        "id": "Yb78L_T_19UY"
      },
      "source": [
        "### 8- Visualization of clusters based on location and Temperture\n"
      ]
    },
    {
      "cell_type": "code",
      "metadata": {
        "id": "TVm6I7cY19UY"
      },
      "source": [
        "from mpl_toolkits.basemap import Basemap\n",
        "import matplotlib.pyplot as plt\n",
        "from pylab import rcParams\n",
        "%matplotlib inline\n",
        "rcParams['figure.figsize'] = (14,10)\n",
        "\n",
        "my_map = Basemap(projection='merc',\n",
        "            resolution = 'l', area_thresh = 1000.0,\n",
        "            llcrnrlon=llon, llcrnrlat=llat, #min longitude (llcrnrlon) and latitude (llcrnrlat)\n",
        "            urcrnrlon=ulon, urcrnrlat=ulat) #max longitude (urcrnrlon) and latitude (urcrnrlat)\n",
        "\n",
        "my_map.drawcoastlines()\n",
        "my_map.drawcountries()\n",
        "#my_map.drawmapboundary()\n",
        "my_map.fillcontinents(color = 'white', alpha = 0.3)\n",
        "my_map.shadedrelief()\n",
        "\n",
        "# To create a color map\n",
        "colors = plt.get_cmap('jet')(np.linspace(0.0, 1.0, clusterNum))\n",
        "\n",
        "\n",
        "\n",
        "#Visualization1\n",
        "for clust_number in set(labels):\n",
        "    c=(([0.4,0.4,0.4]) if clust_number == -1 else colors[np.int(clust_number)])\n",
        "    clust_set = pdf[pdf.Clus_Db == clust_number]                    \n",
        "    my_map.scatter(clust_set.xm, clust_set.ym, color =c,  marker='o', s= 20, alpha = 0.85)\n",
        "    if clust_number != -1:\n",
        "        cenx=np.mean(clust_set.xm) \n",
        "        ceny=np.mean(clust_set.ym) \n",
        "        plt.text(cenx,ceny,str(clust_number), fontsize=25, color='red',)\n",
        "        print (\"Cluster \"+str(clust_number)+', Avg Temp: '+ str(np.mean(clust_set.Tm)))"
      ],
      "execution_count": null,
      "outputs": []
    }
  ]
}